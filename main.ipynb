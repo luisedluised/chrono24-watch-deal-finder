{
 "cells": [
  {
   "cell_type": "code",
   "execution_count": 1,
   "metadata": {},
   "outputs": [],
   "source": [
    "from scrapers import show_deals"
   ]
  },
  {
   "cell_type": "code",
   "execution_count": 2,
   "metadata": {},
   "outputs": [],
   "source": [
    "queries = [\n",
    "    {'brand': 'cartier', 'model': 'santos galbee','price_range': (4000, 15000)},\n",
    "    {'brand': 'baltic', 'model': 'mr01'},\n",
    "    {'brand': 'nomos', 'model': 'tangente'},\n",
    "    {'brand': 'nomos', 'model': 'ludwig'},\n",
    "    {'brand': 'hamilton', 'model': 'khaki field'},\n",
    "    {'brand': 'junghans', 'model': 'max bill', 'size_range': (33, 38), 'material': 'steel'},\n",
    "    {'brand': 'nomos', 'model': 'club'},\n",
    "    {'brand': 'nomos', 'model': 'orion'},\n",
    "    {'brand':'rolex', 'model': 'oysterdate'}\n",
    "]"
   ]
  },
  {
   "cell_type": "code",
   "execution_count": 3,
   "metadata": {},
   "outputs": [],
   "source": [
    "for query in queries:\n",
    "    query['region'] = 'US'"
   ]
  },
  {
   "cell_type": "code",
   "execution_count": 4,
   "metadata": {},
   "outputs": [
    {
     "data": {
      "text/html": [
       "\n",
       "            <div style=\"display: flex; align-items: flex-start;\">\n",
       "                \n",
       "                <div style=\"flex: 1; margin-right: 10px;\">\n",
       "                    <a href=\"https://www.chrono24.com.br/cartier/santos-galbee--id26891786.htm\" target=\"_blank\">\n",
       "                        <img src=\"https://cdn2.chrono24.com/images/uhren/26891786-8g9pxsfssef1j2o6etcsqhi6-ExtraLarge.jpg\" style=\"height: 200px; width: auto\" />\n",
       "                    </a>\n",
       "                    <div style=\"margin-top: 10px;\">\n",
       "                        <p>R$11915, Cartier Santos Galbee </p>\n",
       "                    </div>\n",
       "                </div>\n",
       "                \n",
       "                <div style=\"flex: 1; margin-right: 10px;\">\n",
       "                    <a href=\"https://www.chrono24.com.br/cartier/ladies-cartier-santos-galbee-24mm-ivory-roman-stainless-steel-watch-9057930-box--id30457837.htm\" target=\"_blank\">\n",
       "                        <img src=\"https://cdn2.chrono24.com/images/uhren/30457837-zeqpex0k4439nhqprnl72lpl-ExtraLarge.jpg\" style=\"height: 200px; width: auto\" />\n",
       "                    </a>\n",
       "                    <div style=\"margin-top: 10px;\">\n",
       "                        <p>R$12382, Cartier Ladies Cartier Sa</p>\n",
       "                    </div>\n",
       "                </div>\n",
       "                \n",
       "                <div style=\"flex: 1; margin-right: 10px;\">\n",
       "                    <a href=\"https://www.chrono24.com.br/cartier/santos-galbee-automatic-24mm-stainless-steel-quartz-ref-w20056d6--id28580450.htm\" target=\"_blank\">\n",
       "                        <img src=\"https://cdn2.chrono24.com/images/uhren/28580450-5pm9xowsu8gm8s11yci5ydw5-ExtraLarge.jpg\" style=\"height: 200px; width: auto\" />\n",
       "                    </a>\n",
       "                    <div style=\"margin-top: 10px;\">\n",
       "                        <p>R$12392, Cartier Santos Galbee Aut</p>\n",
       "                    </div>\n",
       "                </div>\n",
       "                \n",
       "                <div style=\"flex: 1; margin-right: 10px;\">\n",
       "                    <a href=\"https://www.chrono24.com.br/cartier/cartier-santos-galbee-1567-brown-dial-two-tone-bracelet-no-papers-24mm--id23082253.htm\" target=\"_blank\">\n",
       "                        <img src=\"https://cdn2.chrono24.com/images/uhren/23082253-v5jx806va6zihhhauiwis81b-ExtraLarge.jpg\" style=\"height: 200px; width: auto\" />\n",
       "                    </a>\n",
       "                    <div style=\"margin-top: 10px;\">\n",
       "                        <p>R$12417, Cartier Santos Galbee 156</p>\n",
       "                    </div>\n",
       "                </div>\n",
       "                \n",
       "            </div>\n",
       "            "
      ],
      "text/plain": [
       "<IPython.core.display.HTML object>"
      ]
     },
     "metadata": {},
     "output_type": "display_data"
    },
    {
     "data": {
      "text/html": [
       "\n",
       "            <div style=\"display: flex; align-items: flex-start;\">\n",
       "                \n",
       "                <div style=\"flex: 1; margin-right: 10px;\">\n",
       "                    <a href=\"https://www.chrono24.com.br/baltic/mr01-salmon-dial--id29102197.htm\" target=\"_blank\">\n",
       "                        <img src=\"https://cdn2.chrono24.com/images/uhren/29102197-lakifpk5x7pqso54ms1q9h01-ExtraLarge.jpg\" style=\"height: 200px; width: auto\" />\n",
       "                    </a>\n",
       "                    <div style=\"margin-top: 10px;\">\n",
       "                        <p>R$2731, Baltic MR01 Salmon Dial </p>\n",
       "                    </div>\n",
       "                </div>\n",
       "                \n",
       "                <div style=\"flex: 1; margin-right: 10px;\">\n",
       "                    <a href=\"https://www.chrono24.com.br/baltic/mr01--id29345610.htm\" target=\"_blank\">\n",
       "                        <img src=\"https://cdn2.chrono24.com/images/uhren/29345610-q2q6ct61818zemaf6y25lu1v-ExtraLarge.jpg\" style=\"height: 200px; width: auto\" />\n",
       "                    </a>\n",
       "                    <div style=\"margin-top: 10px;\">\n",
       "                        <p>R$2856, Baltic MR01 </p>\n",
       "                    </div>\n",
       "                </div>\n",
       "                \n",
       "                <div style=\"flex: 1; margin-right: 10px;\">\n",
       "                    <a href=\"https://www.chrono24.com.br/baltic/mr01-salmon--id30075178.htm\" target=\"_blank\">\n",
       "                        <img src=\"https://cdn2.chrono24.com/images/uhren/30075178-yt56nkanxqpfnh8g7my9hnqy-ExtraLarge.jpg\" style=\"height: 200px; width: auto\" />\n",
       "                    </a>\n",
       "                    <div style=\"margin-top: 10px;\">\n",
       "                        <p>R$3412, Baltic MR01 SALMON </p>\n",
       "                    </div>\n",
       "                </div>\n",
       "                \n",
       "                <div style=\"flex: 1; margin-right: 10px;\">\n",
       "                    <a href=\"https://www.chrono24.com.br/baltic/mr01--id27351651.htm\" target=\"_blank\">\n",
       "                        <img src=\"https://cdn2.chrono24.com/images/uhren/27351651-gojgkdh61f67c8f21srlhz29-ExtraLarge.jpg\" style=\"height: 200px; width: auto\" />\n",
       "                    </a>\n",
       "                    <div style=\"margin-top: 10px;\">\n",
       "                        <p>R$3476, Baltic MR01 </p>\n",
       "                    </div>\n",
       "                </div>\n",
       "                \n",
       "            </div>\n",
       "            "
      ],
      "text/plain": [
       "<IPython.core.display.HTML object>"
      ]
     },
     "metadata": {},
     "output_type": "display_data"
    },
    {
     "data": {
      "text/html": [
       "\n",
       "            <div style=\"display: flex; align-items: flex-start;\">\n",
       "                \n",
       "                <div style=\"flex: 1; margin-right: 10px;\">\n",
       "                    <a href=\"https://www.chrono24.com.br/nomos/tangente-35-dresswatch-kleine-sekunde-silver-dial-bauhaus-top-bp--id27785651.htm\" target=\"_blank\">\n",
       "                        <img src=\"https://cdn2.chrono24.com/images/uhren/27785651-t1bufl5b1ej1lbs695tmph4l-ExtraLarge.jpg\" style=\"height: 200px; width: auto\" />\n",
       "                    </a>\n",
       "                    <div style=\"margin-top: 10px;\">\n",
       "                        <p>R$6114, NOMOS Tangente 35 Dresswa</p>\n",
       "                    </div>\n",
       "                </div>\n",
       "                \n",
       "                <div style=\"flex: 1; margin-right: 10px;\">\n",
       "                    <a href=\"https://www.chrono24.com.br/nomos/glashuette-tangente--id25659009.htm\" target=\"_blank\">\n",
       "                        <img src=\"https://cdn2.chrono24.com/images/uhren/25659009-qmrg7z5vmfis5z0ak9ewbsya-ExtraLarge.jpg\" style=\"height: 200px; width: auto\" />\n",
       "                    </a>\n",
       "                    <div style=\"margin-top: 10px;\">\n",
       "                        <p>R$6457, NOMOS Glashütte Tangente </p>\n",
       "                    </div>\n",
       "                </div>\n",
       "                \n",
       "                <div style=\"flex: 1; margin-right: 10px;\">\n",
       "                    <a href=\"https://www.chrono24.com.br/nomos/nomos-glashutte-tangente--stainless-steel-back--id25073349.htm\" target=\"_blank\">\n",
       "                        <img src=\"https://cdn2.chrono24.com/images/uhren/25073349-fuc8kgvdbq8xhc953gvgyubi-ExtraLarge.jpg\" style=\"height: 200px; width: auto\" />\n",
       "                    </a>\n",
       "                    <div style=\"margin-top: 10px;\">\n",
       "                        <p>R$7425, NOMOS Glashutte Tangente </p>\n",
       "                    </div>\n",
       "                </div>\n",
       "                \n",
       "                <div style=\"flex: 1; margin-right: 10px;\">\n",
       "                    <a href=\"https://www.chrono24.com.br/nomos/nomos---tangente-sport---wirtschaftskapitaen---wempe-limited-edition---full-set-fresh-service--id30542532.htm\" target=\"_blank\">\n",
       "                        <img src=\"https://cdn2.chrono24.com/images/uhren/30542532-qg55ao4j34gmo7o7seve5uq8-ExtraLarge.jpg\" style=\"height: 200px; width: auto\" />\n",
       "                    </a>\n",
       "                    <div style=\"margin-top: 10px;\">\n",
       "                        <p>R$7942, NOMOS - Tangente Sport - </p>\n",
       "                    </div>\n",
       "                </div>\n",
       "                \n",
       "            </div>\n",
       "            "
      ],
      "text/plain": [
       "<IPython.core.display.HTML object>"
      ]
     },
     "metadata": {},
     "output_type": "display_data"
    },
    {
     "data": {
      "text/html": [
       "\n",
       "            <div style=\"display: flex; align-items: flex-start;\">\n",
       "                \n",
       "                <div style=\"flex: 1; margin-right: 10px;\">\n",
       "                    <a href=\"https://www.chrono24.com.br/nomos/ludwig--id30381826.htm\" target=\"_blank\">\n",
       "                        <img src=\"https://cdn2.chrono24.com/images/uhren/30381826-qj3bguh33vo70kdh8hy39a0q-ExtraLarge.jpg\" style=\"height: 200px; width: auto\" />\n",
       "                    </a>\n",
       "                    <div style=\"margin-top: 10px;\">\n",
       "                        <p>R$5215, NOMOS Ludwig </p>\n",
       "                    </div>\n",
       "                </div>\n",
       "                \n",
       "                <div style=\"flex: 1; margin-right: 10px;\">\n",
       "                    <a href=\"https://www.chrono24.com.br/nomos/glashuette-herrenuhr-ludwig-201---profil-siemens--id25139957.htm\" target=\"_blank\">\n",
       "                        <img src=\"https://cdn2.chrono24.com/images/uhren/25139957-ilk5ynrakn1b3q187u4yzqgn-ExtraLarge.jpg\" style=\"height: 200px; width: auto\" />\n",
       "                    </a>\n",
       "                    <div style=\"margin-top: 10px;\">\n",
       "                        <p>R$5587, NOMOS Glashütte Herrenuhr</p>\n",
       "                    </div>\n",
       "                </div>\n",
       "                \n",
       "                <div style=\"flex: 1; margin-right: 10px;\">\n",
       "                    <a href=\"https://www.chrono24.com.br/nomos/ludwig-sondermodell-f-siemens-201--id21456476.htm\" target=\"_blank\">\n",
       "                        <img src=\"https://cdn2.chrono24.com/images/uhren/21456476-gerd682dkkwyephu3f4sah2z-ExtraLarge.jpg\" style=\"height: 200px; width: auto\" />\n",
       "                    </a>\n",
       "                    <div style=\"margin-top: 10px;\">\n",
       "                        <p>R$5853, NOMOS Ludwig Sondermodell</p>\n",
       "                    </div>\n",
       "                </div>\n",
       "                \n",
       "                <div style=\"flex: 1; margin-right: 10px;\">\n",
       "                    <a href=\"https://www.chrono24.com.br/nomos/ludwig-201--id26108822.htm\" target=\"_blank\">\n",
       "                        <img src=\"https://cdn2.chrono24.com/images/uhren/26108822-ui2zj65km6xmiy7qkzouz17k-ExtraLarge.jpg\" style=\"height: 200px; width: auto\" />\n",
       "                    </a>\n",
       "                    <div style=\"margin-top: 10px;\">\n",
       "                        <p>R$6119, NOMOS Ludwig 201 </p>\n",
       "                    </div>\n",
       "                </div>\n",
       "                \n",
       "            </div>\n",
       "            "
      ],
      "text/plain": [
       "<IPython.core.display.HTML object>"
      ]
     },
     "metadata": {},
     "output_type": "display_data"
    },
    {
     "data": {
      "text/html": [
       "\n",
       "            <div style=\"display: flex; align-items: flex-start;\">\n",
       "                \n",
       "                <div style=\"flex: 1; margin-right: 10px;\">\n",
       "                    <a href=\"https://www.chrono24.com.br/hamilton/khaki-field--id30416088.htm\" target=\"_blank\">\n",
       "                        <img src=\"https://cdn2.chrono24.com/images/uhren/30416088-qitlhrbmw92m6gln9a8rp0fh-ExtraLarge.jpg\" style=\"height: 200px; width: auto\" />\n",
       "                    </a>\n",
       "                    <div style=\"margin-top: 10px;\">\n",
       "                        <p>R$1937, Hamilton Khaki Field </p>\n",
       "                    </div>\n",
       "                </div>\n",
       "                \n",
       "                <div style=\"flex: 1; margin-right: 10px;\">\n",
       "                    <a href=\"https://www.chrono24.com.br/hamilton/khaki-field-titanium-auto--id30463430.htm\" target=\"_blank\">\n",
       "                        <img src=\"https://cdn2.chrono24.com/images/uhren/30463430-d6wkqky5zjn2ok41aeyq742g-ExtraLarge.jpg\" style=\"height: 200px; width: auto\" />\n",
       "                    </a>\n",
       "                    <div style=\"margin-top: 10px;\">\n",
       "                        <p>R$3476, Hamilton Khaki Field Tita</p>\n",
       "                    </div>\n",
       "                </div>\n",
       "                \n",
       "                <div style=\"flex: 1; margin-right: 10px;\">\n",
       "                    <a href=\"https://www.chrono24.com.br/hamilton/hamilton-khaki-field-collectors-set-limited-edition-for-hodinkee--id28854801.htm\" target=\"_blank\">\n",
       "                        <img src=\"https://cdn2.chrono24.com/images/uhren/28854801-x6mlzwl6ob3jw6ym4sx39k0b-ExtraLarge.jpg\" style=\"height: 200px; width: auto\" />\n",
       "                    </a>\n",
       "                    <div style=\"margin-top: 10px;\">\n",
       "                        <p>R$13853, Hamilton Khaki Field Coll</p>\n",
       "                    </div>\n",
       "                </div>\n",
       "                \n",
       "            </div>\n",
       "            "
      ],
      "text/plain": [
       "<IPython.core.display.HTML object>"
      ]
     },
     "metadata": {},
     "output_type": "display_data"
    },
    {
     "data": {
      "text/html": [
       "\n",
       "            <div style=\"display: flex; align-items: flex-start;\">\n",
       "                \n",
       "                <div style=\"flex: 1; margin-right: 10px;\">\n",
       "                    <a href=\"https://www.chrono24.com.br/junghans/max-bill-automatic--id30448424.htm\" target=\"_blank\">\n",
       "                        <img src=\"https://cdn2.chrono24.com/images/uhren/30448424-oyfvuhs5opi6kuyt3ckgj6pk-ExtraLarge.jpg\" style=\"height: 200px; width: auto\" />\n",
       "                    </a>\n",
       "                    <div style=\"margin-top: 10px;\">\n",
       "                        <p>R$2235, Junghans max bill Automat</p>\n",
       "                    </div>\n",
       "                </div>\n",
       "                \n",
       "                <div style=\"flex: 1; margin-right: 10px;\">\n",
       "                    <a href=\"https://www.chrono24.com.br/junghans/junghans-max-bill-quarz-38mm-041446504---full-set-aus-072023--id30174723.htm\" target=\"_blank\">\n",
       "                        <img src=\"https://cdn2.chrono24.com/images/uhren/30174723-ez7sxoe9d567ec9bhamsu59m-ExtraLarge.jpg\" style=\"height: 200px; width: auto\" />\n",
       "                    </a>\n",
       "                    <div style=\"margin-top: 10px;\">\n",
       "                        <p>R$2655, Junghans Max Bill Quarz 3</p>\n",
       "                    </div>\n",
       "                </div>\n",
       "                \n",
       "                <div style=\"flex: 1; margin-right: 10px;\">\n",
       "                    <a href=\"https://www.chrono24.com.br/junghans/max-bill-automatic--id30553292.htm\" target=\"_blank\">\n",
       "                        <img src=\"https://cdn2.chrono24.com/images/uhren/30553292-a33u1bcurdq4kz7s0u1ci5t4-ExtraLarge.jpg\" style=\"height: 200px; width: auto\" />\n",
       "                    </a>\n",
       "                    <div style=\"margin-top: 10px;\">\n",
       "                        <p>R$2724, Junghans max bill Automat</p>\n",
       "                    </div>\n",
       "                </div>\n",
       "                \n",
       "                <div style=\"flex: 1; margin-right: 10px;\">\n",
       "                    <a href=\"https://www.chrono24.com.br/junghans/max-bill-automatic-gold--id26788765.htm\" target=\"_blank\">\n",
       "                        <img src=\"https://cdn2.chrono24.com/images/uhren/26788765-icawylxrab3982lnkj50m9hl-ExtraLarge.jpg\" style=\"height: 200px; width: auto\" />\n",
       "                    </a>\n",
       "                    <div style=\"margin-top: 10px;\">\n",
       "                        <p>R$2975, Junghans Max Bill Automat</p>\n",
       "                    </div>\n",
       "                </div>\n",
       "                \n",
       "            </div>\n",
       "            "
      ],
      "text/plain": [
       "<IPython.core.display.HTML object>"
      ]
     },
     "metadata": {},
     "output_type": "display_data"
    },
    {
     "data": {
      "text/html": [
       "\n",
       "            <div style=\"display: flex; align-items: flex-start;\">\n",
       "                \n",
       "                <div style=\"flex: 1; margin-right: 10px;\">\n",
       "                    <a href=\"https://www.chrono24.com.br/nomos/club-campus--id30115766.htm\" target=\"_blank\">\n",
       "                        <img src=\"https://cdn2.chrono24.com/images/uhren/30115766-d4nefohx7hn9v5b319edxvbf-ExtraLarge.jpg\" style=\"height: 200px; width: auto\" />\n",
       "                    </a>\n",
       "                    <div style=\"margin-top: 10px;\">\n",
       "                        <p>R$4470, NOMOS Club Campus </p>\n",
       "                    </div>\n",
       "                </div>\n",
       "                \n",
       "                <div style=\"flex: 1; margin-right: 10px;\">\n",
       "                    <a href=\"https://www.chrono24.com.br/nomos/club-campus--id29988493.htm\" target=\"_blank\">\n",
       "                        <img src=\"https://cdn2.chrono24.com/images/uhren/29988493-u4yx8je3lhcf7oey7jrr11qz-ExtraLarge.jpg\" style=\"height: 200px; width: auto\" />\n",
       "                    </a>\n",
       "                    <div style=\"margin-top: 10px;\">\n",
       "                        <p>R$4967, NOMOS Club Campus </p>\n",
       "                    </div>\n",
       "                </div>\n",
       "                \n",
       "                <div style=\"flex: 1; margin-right: 10px;\">\n",
       "                    <a href=\"https://www.chrono24.com.br/nomos/club-campus--id29434435.htm\" target=\"_blank\">\n",
       "                        <img src=\"https://cdn2.chrono24.com/images/uhren/29434435-icshar6rl0t2kj593cm15gkz-ExtraLarge.jpg\" style=\"height: 200px; width: auto\" />\n",
       "                    </a>\n",
       "                    <div style=\"margin-top: 10px;\">\n",
       "                        <p>R$5215, NOMOS Club Campus </p>\n",
       "                    </div>\n",
       "                </div>\n",
       "                \n",
       "                <div style=\"flex: 1; margin-right: 10px;\">\n",
       "                    <a href=\"https://www.chrono24.com.br/nomos/club--id29449316.htm\" target=\"_blank\">\n",
       "                        <img src=\"https://cdn2.chrono24.com/images/uhren/29449316-i3pyfw1lnvfq38b9viz04v1v-ExtraLarge.jpg\" style=\"height: 200px; width: auto\" />\n",
       "                    </a>\n",
       "                    <div style=\"margin-top: 10px;\">\n",
       "                        <p>R$5463, NOMOS Club </p>\n",
       "                    </div>\n",
       "                </div>\n",
       "                \n",
       "            </div>\n",
       "            "
      ],
      "text/plain": [
       "<IPython.core.display.HTML object>"
      ]
     },
     "metadata": {},
     "output_type": "display_data"
    },
    {
     "data": {
      "text/html": [
       "\n",
       "            <div style=\"display: flex; align-items: flex-start;\">\n",
       "                \n",
       "                <div style=\"flex: 1; margin-right: 10px;\">\n",
       "                    <a href=\"https://www.chrono24.com.br/nomos/orion-38--id30365873.htm\" target=\"_blank\">\n",
       "                        <img src=\"https://cdn2.chrono24.com/images/uhren/30365873-omp3t5t229fs2cu1i7oxzngz-ExtraLarge.jpg\" style=\"height: 200px; width: auto\" />\n",
       "                    </a>\n",
       "                    <div style=\"margin-top: 10px;\">\n",
       "                        <p>R$5861, NOMOS Orion 38 </p>\n",
       "                    </div>\n",
       "                </div>\n",
       "                \n",
       "                <div style=\"flex: 1; margin-right: 10px;\">\n",
       "                    <a href=\"https://www.chrono24.com.br/nomos/orion-35mm-307---inventory-4247--id29351369.htm\" target=\"_blank\">\n",
       "                        <img src=\"https://cdn2.chrono24.com/images/uhren/29351369-melulnweu6da7itp1yrjw5ej-ExtraLarge.jpg\" style=\"height: 200px; width: auto\" />\n",
       "                    </a>\n",
       "                    <div style=\"margin-top: 10px;\">\n",
       "                        <p>R$6948, NOMOS Orion 35mm 307 - In</p>\n",
       "                    </div>\n",
       "                </div>\n",
       "                \n",
       "                <div style=\"flex: 1; margin-right: 10px;\">\n",
       "                    <a href=\"https://www.chrono24.com.br/nomos/glashuette-orion-stahl-handaufzug-armband-leder-328mm-ref319-bj2023-boxpap-full-set-neu--id29400944.htm\" target=\"_blank\">\n",
       "                        <img src=\"https://cdn2.chrono24.com/images/uhren/29400944-8vc5vl3slo343yfsyo21xxu3-ExtraLarge.jpg\" style=\"height: 200px; width: auto\" />\n",
       "                    </a>\n",
       "                    <div style=\"margin-top: 10px;\">\n",
       "                        <p>R$7093, NOMOS Glashütte Orion Sta</p>\n",
       "                    </div>\n",
       "                </div>\n",
       "                \n",
       "                <div style=\"flex: 1; margin-right: 10px;\">\n",
       "                    <a href=\"https://www.chrono24.com.br/nomos/nomos-orion-38-grau-i-saphirglasboden-i-full-set--id27972734.htm\" target=\"_blank\">\n",
       "                        <img src=\"https://cdn2.chrono24.com/images/uhren/27972734-em64yqx2w3f94n73c7bzbyt4-ExtraLarge.jpg\" style=\"height: 200px; width: auto\" />\n",
       "                    </a>\n",
       "                    <div style=\"margin-top: 10px;\">\n",
       "                        <p>R$7236, NOMOS Orion 38 Grau I Sap</p>\n",
       "                    </div>\n",
       "                </div>\n",
       "                \n",
       "            </div>\n",
       "            "
      ],
      "text/plain": [
       "<IPython.core.display.HTML object>"
      ]
     },
     "metadata": {},
     "output_type": "display_data"
    },
    {
     "data": {
      "text/html": [
       "\n",
       "            <div style=\"display: flex; align-items: flex-start;\">\n",
       "                \n",
       "            </div>\n",
       "            "
      ],
      "text/plain": [
       "<IPython.core.display.HTML object>"
      ]
     },
     "metadata": {},
     "output_type": "display_data"
    }
   ],
   "source": [
    "max_results = 4\n",
    "\n",
    "show_deals(queries, max_results, img_height=200, name_enforce = True, hard_max_price=np.inf)"
   ]
  },
  {
   "cell_type": "code",
   "execution_count": null,
   "metadata": {},
   "outputs": [],
   "source": []
  }
 ],
 "metadata": {
  "kernelspec": {
   "display_name": "Python 3",
   "language": "python",
   "name": "python3"
  },
  "language_info": {
   "codemirror_mode": {
    "name": "ipython",
    "version": 3
   },
   "file_extension": ".py",
   "mimetype": "text/x-python",
   "name": "python",
   "nbconvert_exporter": "python",
   "pygments_lexer": "ipython3",
   "version": "3.11.5"
  },
  "orig_nbformat": 4
 },
 "nbformat": 4,
 "nbformat_minor": 2
}
