{
 "cells": [
  {
   "cell_type": "code",
   "execution_count": 140,
   "metadata": {},
   "outputs": [],
   "source": [
    "import requests\n",
    "from bs4 import BeautifulSoup\n",
    "import json\n",
    "import warnings\n",
    "warnings.filterwarnings('ignore')"
   ]
  },
  {
   "cell_type": "code",
   "execution_count": 141,
   "metadata": {},
   "outputs": [],
   "source": [
    "import pandas as pd\n",
    "from matplotlib import pyplot as plt"
   ]
  },
  {
   "cell_type": "code",
   "execution_count": 142,
   "metadata": {},
   "outputs": [],
   "source": [
    "user_agent_list = ['Mozilla/5.0 (Windows NT 10.0; Win64; x64) AppleWebKit/537.36 (KHTML, like Gecko) Chrome/100.0.0.0 Safari/537.36',\n",
    "                   'Chrome/79.0.3945.130']"
   ]
  },
  {
   "cell_type": "code",
   "execution_count": 143,
   "metadata": {},
   "outputs": [],
   "source": [
    "def search_watch(brand, model, page_number = 1):\n",
    "    model_brand = brand + ' ' + model\n",
    "    url = 'https://www.chrono24.com.br/{}/index.htm?dosearch=true&pageSize=120&query={}&showpage={}'.format(\n",
    "        brand.replace(' ', ''), model_brand.replace(' ', '+'), page_number)\n",
    "    headers = {\n",
    "        'User-Agent': user_agent_list[0],\n",
    "        'Accept-Language': 'en-US,en;q=0.9'}\n",
    "\n",
    "    response = requests.get(url, headers=headers)\n",
    "\n",
    "    if response.status_code == 200:\n",
    "        return (response)\n",
    "    else:\n",
    "        print(f\"Failed to retrieve content. Status code: {response.status_code}\")"
   ]
  },
  {
   "cell_type": "code",
   "execution_count": 144,
   "metadata": {},
   "outputs": [],
   "source": [
    "def extract_html_element(response, element):\n",
    "    soup = BeautifulSoup(response.text, 'html.parser')\n",
    "    script_element = soup.find('script', {'type': element})\n",
    "    if script_element:\n",
    "        return(script_element.string)\n",
    "    else:\n",
    "        print(\"Script element not found.\")\n"
   ]
  },
  {
   "cell_type": "code",
   "execution_count": 145,
   "metadata": {},
   "outputs": [],
   "source": [
    "def convert_string_to_json(string):\n",
    "    try:\n",
    "        json_data = json.loads(string)\n",
    "        return(json_data)\n",
    "    except json.JSONDecodeError as e:\n",
    "        print(f\"Error decoding JSON: {e}\")\n"
   ]
  },
  {
   "cell_type": "code",
   "execution_count": 146,
   "metadata": {},
   "outputs": [],
   "source": [
    "def format_search_results_to_dataframe(json_data):\n",
    "\n",
    "    offer_frame = pd.DataFrame()\n",
    "    for offer_ in json_data['@graph'][1]['offers']:\n",
    "        offer = offer_.copy()\n",
    "        del offer['image']\n",
    "        s = pd.DataFrame(offer, index = [0])\n",
    "        offer_frame = pd.concat([offer_frame, s], axis=0)\n",
    "        \n",
    "    offer_frame.availability = offer_frame.availability.apply(lambda x: str(x).split('/')[-1])\n",
    "    offer_frame = offer_frame[offer_frame.price.isna() == False]\n",
    "    offer_frame = offer_frame[offer_frame.availability == 'InStock']\n",
    "    offer_frame = offer_frame[offer_frame['@type'] == 'Offer']\n",
    "    offer_frame = offer_frame.drop(['@type', 'availability'], axis=1)\n",
    "    offer_frame.price = offer_frame.price.astype(int)\n",
    "\n",
    "    return offer_frame.sort_values('price')"
   ]
  },
  {
   "cell_type": "code",
   "execution_count": 147,
   "metadata": {},
   "outputs": [],
   "source": [
    "def watch_search(brand, model, page_number = 1):\n",
    "    response = search_watch(brand, model, page_number)\n",
    "    html_element = extract_html_element(response, element = 'application/ld+json')\n",
    "    json_data = convert_string_to_json(html_element)\n",
    "    offer_frame = format_search_results_to_dataframe(json_data)\n",
    "    return offer_frame"
   ]
  },
  {
   "cell_type": "code",
   "execution_count": 148,
   "metadata": {},
   "outputs": [],
   "source": [
    "def get_offer_information(url):\n",
    "    headers = {\n",
    "        'User-Agent': user_agent_list[0],\n",
    "        'Accept-Language': 'en-US,en;q=0.9'}\n",
    "\n",
    "    response = requests.get(url, headers=headers)\n",
    "    text = response.text\n",
    "    soup = BeautifulSoup(text, 'html.parser')\n",
    "    data_dict = {}\n",
    "\n",
    "    for row in soup.find_all('tr'):\n",
    "        cells = row.find_all('td')\n",
    "        if len(cells) == 2:\n",
    "            key = cells[0].strong.text.strip()\n",
    "            value = cells[1].text.strip()\n",
    "            data_dict[key] = value\n",
    "\n",
    "    out = pd.DataFrame(data_dict, index = [0])\n",
    "    out['url'] = url\n",
    "    return out"
   ]
  },
  {
   "cell_type": "code",
   "execution_count": null,
   "metadata": {},
   "outputs": [],
   "source": [
    "infos = pd.DataFrame()\n",
    "for url in res.url:\n",
    "    infos = pd.concat([infos, get_offer_information(url)], axis=0)"
   ]
  },
  {
   "cell_type": "code",
   "execution_count": null,
   "metadata": {},
   "outputs": [
    {
     "data": {
      "text/plain": [
       "Código do anúncio           0\n",
       "Marca                       0\n",
       "Modelo                      0\n",
       "Número de referência        2\n",
       "Movimento                   5\n",
       "Material da caixa           4\n",
       "Material da bracelete       7\n",
       "Ano de fabrico              0\n",
       "Estado                      0\n",
       "Conteúdo fornecido          0\n",
       "Género                      8\n",
       "Localização                 0\n",
       "Preço                       0\n",
       "Disponibilidade             0\n",
       "Diâmetro                   16\n",
       "Material da luneta         23\n",
       "Mostrador                   5\n",
       "Cor da bracelete           21\n",
       "Material do fecho          20\n",
       "url                         0\n",
       "Calibre/Movimento          28\n",
       "Calibre de base            58\n",
       "Número de rubis            34\n",
       "Largura                    58\n",
       "Fecho                      20\n",
       "Código do comerciante      35\n",
       "Altura                     57\n",
       "Estanqueidade              33\n",
       "Vidro                      20\n",
       "Algarismos do mostrador    23\n",
       "Largura de aperto          59\n",
       "Frequência                 58\n",
       "Reserva de corda           35\n",
       "dtype: int64"
      ]
     },
     "execution_count": 51,
     "metadata": {},
     "output_type": "execute_result"
    }
   ],
   "source": [
    "infos.isna().sum()"
   ]
  }
 ],
 "metadata": {
  "kernelspec": {
   "display_name": "Python 3",
   "language": "python",
   "name": "python3"
  },
  "language_info": {
   "codemirror_mode": {
    "name": "ipython",
    "version": 3
   },
   "file_extension": ".py",
   "mimetype": "text/x-python",
   "name": "python",
   "nbconvert_exporter": "python",
   "pygments_lexer": "ipython3",
   "version": "3.11.5"
  },
  "orig_nbformat": 4
 },
 "nbformat": 4,
 "nbformat_minor": 2
}
